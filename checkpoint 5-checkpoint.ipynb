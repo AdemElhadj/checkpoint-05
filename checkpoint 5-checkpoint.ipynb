{
 "cells": [
  {
   "cell_type": "code",
   "execution_count": 1,
   "id": "4bb1ea08",
   "metadata": {},
   "outputs": [
    {
     "name": "stdout",
     "output_type": "stream",
     "text": [
      "NumPy Array:\n",
      "[1 2 3]\n",
      "List: [1, 2, 3]\n"
     ]
    }
   ],
   "source": [
    "\n",
    "import numpy as np\n",
    "\n",
    "arr = np.array([1, 2, 3])\n",
    "print(f'NumPy Array:\\n{arr}')\n",
    "\n",
    "list1 = arr.tolist()\n",
    "print(f'List: {list1}')"
   ]
  },
  {
   "cell_type": "code",
   "execution_count": 2,
   "id": "f9b913f6",
   "metadata": {},
   "outputs": [
    {
     "name": "stdout",
     "output_type": "stream",
     "text": [
      "Original matrix:\n",
      "[[0 1 2]\n",
      " [3 4 5]]\n",
      "Condition number of the said matrix:\n",
      "4\n"
     ]
    }
   ],
   "source": [
    "import numpy as np\n",
    "m = np.arange(6).reshape(2,3)\n",
    "print(\"Original matrix:\")\n",
    "print(m)\n",
    "result =  np.trace(m)\n",
    "print(\"Condition number of the said matrix:\")\n",
    "print(result)"
   ]
  },
  {
   "cell_type": "code",
   "execution_count": null,
   "id": "69d615c4",
   "metadata": {},
   "outputs": [],
   "source": [
    "\n",
    "\n",
    "\n",
    "\n",
    "\n",
    "\n",
    "\n",
    "\n",
    "\n",
    "\n"
   ]
  },
  {
   "cell_type": "code",
   "execution_count": null,
   "id": "ef813092",
   "metadata": {},
   "outputs": [],
   "source": []
  },
  {
   "cell_type": "code",
   "execution_count": 3,
   "id": "a96c5075",
   "metadata": {},
   "outputs": [
    {
     "name": "stdout",
     "output_type": "stream",
     "text": [
      "Original matrix:\n",
      "\n",
      "[[0.07847274 0.94846731 0.8545929  0.50851358 0.8975064  0.60819089\n",
      "  0.58642297 0.9383941  0.12775911 0.33778015]\n",
      " [0.60446436 0.81091237 0.53011991 0.64599086 0.96049834 0.91018878\n",
      "  0.0106244  0.14951645 0.68084012 0.64758387]\n",
      " [0.74099628 0.90183569 0.11465499 0.86906019 0.68799041 0.01378037\n",
      "  0.1822287  0.80576505 0.22237148 0.33000879]\n",
      " [0.47732591 0.08744188 0.96416015 0.69001665 0.03734762 0.66816365\n",
      "  0.23596964 0.3460406  0.40437246 0.66659698]\n",
      " [0.53922147 0.89698673 0.33684636 0.02780134 0.24651888 0.017168\n",
      "  0.70739162 0.85420529 0.03523805 0.69636722]]\n",
      "\n",
      "Subtract the mean of each row of the said matrix:\n",
      "\n",
      "[[-0.51013728  0.3598573   0.26598289 -0.08009644  0.30889639  0.01958088\n",
      "  -0.00218705  0.34978408 -0.4608509  -0.25082987]\n",
      " [ 0.00939042  0.21583842 -0.06495403  0.05091692  0.3654244   0.31511483\n",
      "  -0.58444955 -0.4455575   0.08576617  0.05250993]\n",
      " [ 0.25412709  0.41496649 -0.37221421  0.382191    0.20112122 -0.47308883\n",
      "  -0.30464049  0.31889585 -0.26449771 -0.15686041]\n",
      " [ 0.01958236 -0.37030167  0.5064166   0.2322731  -0.42039593  0.2104201\n",
      "  -0.22177391 -0.11170295 -0.0533711   0.20885342]\n",
      " [ 0.10344697  0.46121223 -0.09892813 -0.40797316 -0.18925561 -0.4186065\n",
      "   0.27161712  0.41843079 -0.40053645  0.26059272]]\n"
     ]
    }
   ],
   "source": [
    "import numpy as np\n",
    "print(\"Original matrix:\\n\")\n",
    "X = np.random.rand(5, 10)\n",
    "print(X)\n",
    "print(\"\\nSubtract the mean of each row of the said matrix:\\n\")\n",
    "Y = X - X.mean(axis=1, keepdims=True)\n",
    "print(Y)"
   ]
  },
  {
   "cell_type": "code",
   "execution_count": null,
   "id": "6962814a",
   "metadata": {},
   "outputs": [],
   "source": []
  }
 ],
 "metadata": {
  "kernelspec": {
   "display_name": "Python 3 (ipykernel)",
   "language": "python",
   "name": "python3"
  },
  "language_info": {
   "codemirror_mode": {
    "name": "ipython",
    "version": 3
   },
   "file_extension": ".py",
   "mimetype": "text/x-python",
   "name": "python",
   "nbconvert_exporter": "python",
   "pygments_lexer": "ipython3",
   "version": "3.9.7"
  }
 },
 "nbformat": 4,
 "nbformat_minor": 5
}
